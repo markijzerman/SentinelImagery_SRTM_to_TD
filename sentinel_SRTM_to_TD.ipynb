{
  "nbformat": 4,
  "nbformat_minor": 0,
  "metadata": {
    "colab": {
      "name": "AsAboveSoBelow_TimelapseMaker.ipynb",
      "version": "0.3.2",
      "provenance": [],
      "collapsed_sections": []
    },
    "kernelspec": {
      "name": "python3",
      "display_name": "Python 3"
    }
  },
  "cells": [
    {
      "cell_type": "code",
      "metadata": {
        "id": "Gxsno-SL5VYQ",
        "colab_type": "code",
        "colab": {}
      },
      "source": [
        "import sys\n",
        "!pip install sentinelhub\n",
        "!pip install s2cloudless\n",
        "!pip install opencv-python"
      ],
      "execution_count": 0,
      "outputs": []
    },
    {
      "cell_type": "code",
      "metadata": {
        "id": "k1XLuaXE7wsN",
        "colab_type": "code",
        "colab": {}
      },
      "source": [
        "!rm -rf content\n",
        "!git clone https://github.com/markijzerman/time-lapse tmp && mv tmp/.git . && rm -rf tmp && git reset --hard\n",
        "!ls -la\n"
      ],
      "execution_count": 0,
      "outputs": []
    },
    {
      "cell_type": "code",
      "metadata": {
        "id": "cfX06a2U5wLM",
        "colab_type": "code",
        "colab": {}
      },
      "source": [
        "# needed libs\n",
        "import matplotlib.pyplot as plt\n",
        "import numpy as np\n",
        "\n",
        "# sentinel hub libs\n",
        "from sentinelhub import BBox, CRS\n",
        "from time_lapse import SentinelHubTimelapse\n",
        "\n",
        "# set Sentinel ID if not in config file\n",
        "# instance id is in sentinelhub.config. update with sentinelhub.config --instance_id <ID> to set\n",
        "WMS_INSTANCE = ''"
      ],
      "execution_count": 0,
      "outputs": []
    },
    {
      "cell_type": "code",
      "metadata": {
        "id": "fjlJoNq07vkW",
        "colab_type": "code",
        "colab": {}
      },
      "source": [
        "# set coordinates and time interval -79.89833,-46.48995 // -79.68524,-46.60096\n",
        "# right, top, left, bottom -71.61, -38.50, -71.75, -38.56\n",
        "set_coordinates = [-71.61, -38.50, -71.75, -38.56]\n",
        "coords = BBox(bbox=[set_coordinates[0], set_coordinates[1], set_coordinates[2], set_coordinates[3]], \n",
        "                      crs=CRS.WGS84)\n",
        "time_interval = ['2019-04-01', '2019-04-10']"
      ],
      "execution_count": 0,
      "outputs": []
    },
    {
      "cell_type": "code",
      "metadata": {
        "id": "uhyjsEa6EYE8",
        "colab_type": "code",
        "colab": {}
      },
      "source": [
        "timelapse = SentinelHubTimelapse('timelapse',\n",
        "                                      coords,\n",
        "                                      time_interval,\n",
        "                                      WMS_INSTANCE\n",
        "                                )"
      ],
      "execution_count": 0,
      "outputs": []
    },
    {
      "cell_type": "code",
      "metadata": {
        "id": "Gwb6tBEoEiJv",
        "colab_type": "code",
        "colab": {}
      },
      "source": [
        "# create preview\n",
        "timelapse.get_previews()\n",
        "timelapse.plot_preview(filename='previews.pdf')"
      ],
      "execution_count": 0,
      "outputs": []
    },
    {
      "cell_type": "code",
      "metadata": {
        "id": "p6T-jgM0FICi",
        "colab_type": "code",
        "colab": {}
      },
      "source": [
        "# if set correctly, download full res\n",
        "!rm -rf timelapse/fullres\n",
        "timelapse.save_fullres_images()"
      ],
      "execution_count": 0,
      "outputs": []
    },
    {
      "cell_type": "code",
      "metadata": {
        "id": "YnbxZbVgF_w6",
        "colab_type": "code",
        "colab": {}
      },
      "source": [
        "!rm timelapse-fullres.zip\n",
        "!zip -r /content/timelapse-fullres.zip /content/timelapse/fullres\n",
        "# you can now download timelapse-fullres.zip!"
      ],
      "execution_count": 0,
      "outputs": []
    },
    {
      "cell_type": "code",
      "metadata": {
        "id": "as-XSFgyI5cD",
        "colab_type": "code",
        "colab": {}
      },
      "source": [
        "# start code to download the DEM\n",
        "\n",
        "#!apt update\n",
        "#!apt upgrade\n",
        "#!apt install gdal-bin python-gdal python3-gdal\n",
        "\n",
        "\n",
        "!pip install elevation\n",
        "\n"
      ],
      "execution_count": 0,
      "outputs": []
    },
    {
      "cell_type": "code",
      "metadata": {
        "id": "uyz27c5oKTTK",
        "colab_type": "code",
        "colab": {}
      },
      "source": [
        "#incoming coordinates are # right, top, left, bottom\n",
        "# eio takes left bottom right top\n",
        "# -71.61, -38.50, -71.75, -38.56\n",
        "# -71.75 -38.56 -71.61 -38.50\n",
        "!rm test.tif\n",
        "!rm test_scaled.png\n",
        "right = set_coordinates[0]\n",
        "top = set_coordinates[1]\n",
        "left = set_coordinates[2]\n",
        "bottom = set_coordinates[3]\n",
        "!eio clip -o test.tif --bounds $left $bottom $right $top\n",
        "!gdal_translate -of PNG -ot Byte -scale test.tif test_scaled.png"
      ],
      "execution_count": 0,
      "outputs": []
    },
    {
      "cell_type": "code",
      "metadata": {
        "id": "Gvj5XFe_LmSb",
        "colab_type": "code",
        "colab": {}
      },
      "source": [
        "\n"
      ],
      "execution_count": 0,
      "outputs": []
    }
  ]
}